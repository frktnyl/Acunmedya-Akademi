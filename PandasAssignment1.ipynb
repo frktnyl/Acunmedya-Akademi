{
 "cells": [
  {
   "cell_type": "code",
   "execution_count": 1,
   "id": "858b1492-f2a1-4b5a-8daf-c2543ed304a6",
   "metadata": {},
   "outputs": [],
   "source": [
    "#Pandas kütüphanesinden 10 Adet fonkisyon araştırılacak kullanım örneği ile paylaşılacak"
   ]
  },
  {
   "cell_type": "code",
   "execution_count": 2,
   "id": "7e39d65c-16a4-40f0-9496-fcf14634763d",
   "metadata": {},
   "outputs": [],
   "source": [
    "import pandas as pd"
   ]
  },
  {
   "cell_type": "code",
   "execution_count": 3,
   "id": "e7de9939-6851-45ea-ab6c-cc5505159b2b",
   "metadata": {},
   "outputs": [
    {
     "name": "stdout",
     "output_type": "stream",
     "text": [
      "               A           B\n",
      "count   5.000000    5.000000\n",
      "mean   15.000000  300.000000\n",
      "std     7.905694  158.113883\n",
      "min     5.000000  100.000000\n",
      "25%    10.000000  200.000000\n",
      "50%    15.000000  300.000000\n",
      "75%    20.000000  400.000000\n",
      "max    25.000000  500.000000\n"
     ]
    }
   ],
   "source": [
    "#.describe() Sayısal verilerle ilgili özet istatistikleri verir.\n",
    "df = pd.DataFrame({'A': [5, 10, 15, 20, 25], 'B': [100, 200, 300, 400, 500]})\n",
    "print(df.describe())"
   ]
  },
  {
   "cell_type": "code",
   "execution_count": 4,
   "id": "12d52cb1-73d9-4039-a3ef-7eb9a4d6d735",
   "metadata": {},
   "outputs": [
    {
     "name": "stdout",
     "output_type": "stream",
     "text": [
      "     B\n",
      "0  100\n",
      "1  200\n",
      "2  300\n",
      "3  400\n",
      "4  500\n"
     ]
    }
   ],
   "source": [
    "#.drop() Bir veya daha fazla sütun ya da satırı DataFrame'den siler.\n",
    "df = df.drop('A', axis=1)\n",
    "print(df)"
   ]
  },
  {
   "cell_type": "code",
   "execution_count": 5,
   "id": "b3174f89-8222-43df-a4ba-172440c863b7",
   "metadata": {},
   "outputs": [
    {
     "name": "stdout",
     "output_type": "stream",
     "text": [
      "     A\n",
      "0  1.0\n",
      "1  2.0\n",
      "2  0.0\n",
      "3  4.0\n",
      "4  0.0\n"
     ]
    }
   ],
   "source": [
    "#.fillna() Eksik (NaN) değerleri belirli bir değerle doldurur.\n",
    "df = pd.DataFrame({'A': [1, 2, None, 4, None]})\n",
    "df = df.fillna(0)\n",
    "print(df)"
   ]
  },
  {
   "cell_type": "code",
   "execution_count": 7,
   "id": "60089b58-3755-4a50-8203-af659f659568",
   "metadata": {},
   "outputs": [
    {
     "name": "stdout",
     "output_type": "stream",
     "text": [
      "   A  B\n",
      "3  1  d\n",
      "1  3  b\n",
      "0  5  a\n",
      "2  9  c\n"
     ]
    }
   ],
   "source": [
    "#.sort_values() Bir veya daha fazla sütuna göre sıralama yapar.\n",
    "df = pd.DataFrame({'A': [5, 3, 9, 1], 'B': ['a', 'b', 'c', 'd']})\n",
    "sorted_df = df.sort_values(by='A')\n",
    "print(sorted_df)"
   ]
  },
  {
   "cell_type": "code",
   "execution_count": 8,
   "id": "bd6e1159-719d-40ca-9dfa-c677aa8c2323",
   "metadata": {},
   "outputs": [
    {
     "name": "stdout",
     "output_type": "stream",
     "text": [
      "   A  B  A_squared\n",
      "0  1  4          1\n",
      "1  2  5          4\n",
      "2  3  6          9\n"
     ]
    }
   ],
   "source": [
    "#.apply() Bir fonksiyonu DataFrame veya seriye uygular.\n",
    "df = pd.DataFrame({'A': [1, 2, 3], 'B': [4, 5, 6]})\n",
    "df['A_squared'] = df['A'].apply(lambda x: x**2)\n",
    "print(df)"
   ]
  },
  {
   "cell_type": "code",
   "execution_count": 9,
   "id": "d40184a0-206e-4110-a3ea-095aefbb625f",
   "metadata": {},
   "outputs": [
    {
     "name": "stdout",
     "output_type": "stream",
     "text": [
      "   A  B\n",
      "0  1  3\n",
      "1  2  4\n",
      "2  5  7\n",
      "3  6  8\n"
     ]
    }
   ],
   "source": [
    "#.concat() Birden fazla DataFrame'i birleştirir (concatenate). Satırlara veya sütunlara göre birleşim yapılabilir.\n",
    "df1 = pd.DataFrame({'A': [1, 2], 'B': [3, 4]})\n",
    "df2 = pd.DataFrame({'A': [5, 6], 'B': [7, 8]})\n",
    "result = pd.concat([df1, df2], ignore_index=True)\n",
    "print(result)"
   ]
  },
  {
   "cell_type": "code",
   "execution_count": 12,
   "id": "4716ca10-a3a4-4c9b-90d3-b31158d44444",
   "metadata": {},
   "outputs": [
    {
     "name": "stdout",
     "output_type": "stream",
     "text": [
      "Color\n",
      "Red      3\n",
      "Blue     2\n",
      "Green    1\n",
      "Name: count, dtype: int64\n"
     ]
    }
   ],
   "source": [
    "#.value_counts() Bir serinin her bir benzersiz değerinin kaç kez tekrarlandığını sayar.\n",
    "df = pd.DataFrame({'Color': ['Red', 'Blue', 'Red', 'Green', 'Red', 'Blue']})\n",
    "value_counts = df['Color'].value_counts()\n",
    "print(value_counts)"
   ]
  },
  {
   "cell_type": "code",
   "execution_count": 13,
   "id": "6dc4f2b7-cc82-46cd-b151-905fdd5bc86d",
   "metadata": {},
   "outputs": [
    {
     "name": "stdout",
     "output_type": "stream",
     "text": [
      "     A    B    C\n",
      "A  1.0  1.0 -1.0\n",
      "B  1.0  1.0 -1.0\n",
      "C -1.0 -1.0  1.0\n"
     ]
    }
   ],
   "source": [
    "#.corr() Sayısal sütunlar arasındaki korelasyonu hesaplar.\n",
    "df = pd.DataFrame({'A': [1, 2, 3, 4], 'B': [10, 20, 30, 40], 'C': [5, 4, 3, 2]})\n",
    "correlation_matrix = df.corr()\n",
    "print(correlation_matrix)"
   ]
  },
  {
   "cell_type": "code",
   "execution_count": 14,
   "id": "555de8d9-e033-4206-ada1-17c7c0f6d804",
   "metadata": {},
   "outputs": [
    {
     "name": "stdout",
     "output_type": "stream",
     "text": [
      "   New_Name  B\n",
      "0         1  4\n",
      "1         2  5\n",
      "2         3  6\n"
     ]
    }
   ],
   "source": [
    "#.rename() Bir DataFrame'deki sütunları veya satırları yeniden adlandırır.\n",
    "df = pd.DataFrame({'Old_Name': [1, 2, 3], 'B': [4, 5, 6]})\n",
    "df = df.rename(columns={'Old_Name': 'New_Name'})\n",
    "print(df)"
   ]
  },
  {
   "cell_type": "code",
   "execution_count": 15,
   "id": "e23e8624-3972-4b38-aa2c-3e4d6140c986",
   "metadata": {},
   "outputs": [
    {
     "name": "stdout",
     "output_type": "stream",
     "text": [
      "0    False\n",
      "1     True\n",
      "2    False\n",
      "3     True\n",
      "Name: A, dtype: bool\n"
     ]
    }
   ],
   "source": [
    "#.isin() Bir serinin, belirli bir listeyle karşılaştırıldığında hangi değerlerin eşleştiğini kontrol eder.\n",
    "df = pd.DataFrame({'A': [1, 2, 3, 4], 'B': ['a', 'b', 'c', 'd']})\n",
    "result = df['A'].isin([2, 4])\n",
    "print(result)"
   ]
  },
  {
   "cell_type": "code",
   "execution_count": null,
   "id": "b36a3ba7-4549-4a7c-ab01-2a994cd8e576",
   "metadata": {},
   "outputs": [],
   "source": []
  }
 ],
 "metadata": {
  "kernelspec": {
   "display_name": "Python 3 (ipykernel)",
   "language": "python",
   "name": "python3"
  },
  "language_info": {
   "codemirror_mode": {
    "name": "ipython",
    "version": 3
   },
   "file_extension": ".py",
   "mimetype": "text/x-python",
   "name": "python",
   "nbconvert_exporter": "python",
   "pygments_lexer": "ipython3",
   "version": "3.9.21"
  }
 },
 "nbformat": 4,
 "nbformat_minor": 5
}
