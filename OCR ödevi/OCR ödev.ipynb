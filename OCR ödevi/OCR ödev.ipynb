{
 "cells": [
  {
   "cell_type": "markdown",
   "id": "7741a3f7-99d6-47ca-b46d-b694f5bfd0e7",
   "metadata": {},
   "source": [
    "# 📄 OCR (Optik Karakter Tanıma) Nedir?"
   ]
  },
  {
   "cell_type": "markdown",
   "id": "95ce6da8-9102-46d5-9b8b-6b0b67d97deb",
   "metadata": {},
   "source": [
    "    OCR (Optical Character Recognition), taranmış belgeler, fotoğraflar veya yazılı metin içeren görsellerden metni algılayıp dijital hale getiren bir teknolojidir. Yaygın kullanım alanları şunlardır:\n",
    "    \n",
    "    Belgeleri dijitalleştirme\n",
    "    \n",
    "    Kimlik, fatura veya fiş tarama\n",
    "    \n",
    "    Plaka tanıma sistemleri"
   ]
  },
  {
   "cell_type": "markdown",
   "id": "e3da4827-d308-4edb-8688-541bea26daa8",
   "metadata": {},
   "source": [
    "## 🛠️ OCR Nasıl Yapılır?\n",
    "    Python programlama dili kullanılarak basit bir OCR işlemi yapılabilir. En yaygın kullanılan kütüphaneler:\n",
    "    \n",
    "    pytesseract: Tesseract OCR motorunu Python üzerinden kullanmamıza olanak tanır.\n",
    "    \n",
    "    Pillow: Görsel işleme için kullanılır.\n",
    "    \n",
    "    opencv-python: Gelişmiş görüntü işleme işlemleri için tercih edilir.\n",
    "    \n"
   ]
  },
  {
   "cell_type": "markdown",
   "id": "7d8caf74-4fd3-44ee-8ee1-7d7d3cc582cf",
   "metadata": {},
   "source": [
    "### ✅ Gereksinimler\n",
    "    Aşağıdaki komutlarla gerekli Python kütüphanelerini yükleyebilirsiniz:"
   ]
  },
  {
   "cell_type": "markdown",
   "id": "3a6654ab-4270-4410-8a68-d1bc1d964e27",
   "metadata": {},
   "source": [
    "    Ayrıca Tesseract'ın kendisini sisteminize kurmanız gerekir:\n",
    "    \n",
    "        -Windows: Tesseract Installer\n",
    "        \n",
    "        -Mac: brew install tesseract\n",
    "        \n",
    "        -Linux (Ubuntu): sudo apt install tesseract-ocr\n",
    "    \n",
    "    Kurulumdan sonra, Tesseract'ın bulunduğu yolu belirtmeniz gerekebilir:"
   ]
  },
  {
   "cell_type": "markdown",
   "id": "de0725c4-4739-449e-8917-7adcdb1768a7",
   "metadata": {},
   "source": [
    "## 📸 Uygulamalı Örnek: Görselden Metin Okuma\n",
    "     Aşağıda bir görsel dosyasından metni okuyan örnek Python kodu yer almaktadır."
   ]
  },
  {
   "cell_type": "code",
   "execution_count": null,
   "id": "22ecf443",
   "metadata": {},
   "outputs": [],
   "source": [
    "!pip install pillow opencv-python pytesseract\n"
   ]
  },
  {
   "cell_type": "code",
   "execution_count": null,
   "id": "de08eb38",
   "metadata": {},
   "outputs": [],
   "source": [
    "from PIL import Image\n",
    "import pytesseract\n",
    "import cv2\n"
   ]
  },
  {
   "cell_type": "code",
   "execution_count": null,
   "id": "2e9b3540",
   "metadata": {},
   "outputs": [],
   "source": [
    "pytesseract.pytesseract.tesseract_yolu = r\"C:\\Program Files\\Tesseract-OCR\\tesseract.exe\"\n"
   ]
  },
  {
   "cell_type": "code",
   "execution_count": null,
   "id": "5aab353f",
   "metadata": {},
   "outputs": [],
   "source": [
    "\n",
    "gorsel_path = \"resim.png\"\n",
    "resim = cv2.imread(gorsel_path)"
   ]
  },
  {
   "cell_type": "code",
   "execution_count": null,
   "id": "256956cb",
   "metadata": {},
   "outputs": [],
   "source": [
    "\n",
    "gray = cv2.cvtColor(resim, cv2.COLOR_BGR2GRAY)\n"
   ]
  },
  {
   "cell_type": "code",
   "execution_count": null,
   "id": "51d29175",
   "metadata": {},
   "outputs": [],
   "source": [
    "\n",
    "cv2.imwrite(\"temp.png\", gray)"
   ]
  },
  {
   "cell_type": "code",
   "execution_count": null,
   "id": "4c82b3f4",
   "metadata": {},
   "outputs": [],
   "source": [
    "# OCR İşlemi\n",
    "metin = pytesseract.gorsel_to_string(Image.open(\"temp.png\"), lang=\"eng\") "
   ]
  },
  {
   "cell_type": "code",
   "execution_count": null,
   "id": "f0ef46bf",
   "metadata": {},
   "outputs": [],
   "source": [
    "\"Tespit edilen metin:  \"+metin"
   ]
  },
  {
   "cell_type": "code",
   "execution_count": null,
   "id": "5335bcc0",
   "metadata": {},
   "outputs": [],
   "source": []
  }
 ],
 "metadata": {
  "kernelspec": {
   "display_name": "Python [conda env:anaconda3]",
   "language": "python",
   "name": "conda-env-anaconda3-py"
  },
  "language_info": {
   "codemirror_mode": {
    "name": "ipython",
    "version": 3
   },
   "file_extension": ".py",
   "mimetype": "text/x-python",
   "name": "python",
   "nbconvert_exporter": "python",
   "pygments_lexer": "ipython3",
   "version": "3.12.7"
  }
 },
 "nbformat": 4,
 "nbformat_minor": 5
}
