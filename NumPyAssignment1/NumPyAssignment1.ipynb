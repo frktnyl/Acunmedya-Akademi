{
 "cells": [
  {
   "cell_type": "code",
   "execution_count": 1,
   "id": "3bb13bb3-92b0-476f-9c04-34a45a16ce7d",
   "metadata": {},
   "outputs": [],
   "source": [
    "import numpy as np"
   ]
  },
  {
   "cell_type": "code",
   "execution_count": 2,
   "id": "21466cec-ad35-4d22-8115-5f8c0fdf49ef",
   "metadata": {},
   "outputs": [
    {
     "name": "stdout",
     "output_type": "stream",
     "text": [
      "[1 2 3 4]\n"
     ]
    }
   ],
   "source": [
    "#Bir NumPy dizisi oluşturur.\n",
    "\n",
    "arr = np.array([1, 2, 3, 4])\n",
    "print(arr)"
   ]
  },
  {
   "cell_type": "code",
   "execution_count": 3,
   "id": "ad00101a-6b94-40df-8c7c-8da499d33977",
   "metadata": {},
   "outputs": [
    {
     "name": "stdout",
     "output_type": "stream",
     "text": [
      "[0 2 4 6 8]\n"
     ]
    }
   ],
   "source": [
    "#Belirli bir aralıktaki sayılardan bir dizi oluşturur\n",
    "\n",
    "arr = np.arange(0, 10, 2)\n",
    "print(arr)"
   ]
  },
  {
   "cell_type": "code",
   "execution_count": 4,
   "id": "c985defa-c37e-40d5-b114-69725526a037",
   "metadata": {},
   "outputs": [
    {
     "name": "stdout",
     "output_type": "stream",
     "text": [
      "[0. 0. 0. 0. 0.]\n"
     ]
    }
   ],
   "source": [
    "#Verilen boyutlarda sıfırlardan oluşan bir dizi oluşturur.\n",
    "\n",
    "arr = np.zeros(5)\n",
    "print(arr)"
   ]
  },
  {
   "cell_type": "code",
   "execution_count": 5,
   "id": "4eeaab20-b0c8-44cc-a0db-864dd92276ba",
   "metadata": {},
   "outputs": [
    {
     "name": "stdout",
     "output_type": "stream",
     "text": [
      "[1. 1. 1.]\n"
     ]
    }
   ],
   "source": [
    "#Verilen boyutlarda birlerden oluşan bir dizi oluşturur.\n",
    "\n",
    "arr = np.ones(3)\n",
    "print(arr)"
   ]
  },
  {
   "cell_type": "code",
   "execution_count": 6,
   "id": "2b0b7d23-ac50-4dcc-a32e-8cb934d8daaf",
   "metadata": {},
   "outputs": [
    {
     "name": "stdout",
     "output_type": "stream",
     "text": [
      "[ 0.   2.5  5.   7.5 10. ]\n"
     ]
    }
   ],
   "source": [
    "#Belirli bir aralıkta eşit aralıklı sayılar içeren bir dizi oluşturur.\n",
    "\n",
    "arr = np.linspace(0, 10, 5)\n",
    "print(arr)"
   ]
  },
  {
   "cell_type": "code",
   "execution_count": 7,
   "id": "f971e034-dfe9-4f65-a9ef-c7ead61f55ed",
   "metadata": {},
   "outputs": [
    {
     "name": "stdout",
     "output_type": "stream",
     "text": [
      "[[1 2 3]\n",
      " [4 5 6]]\n"
     ]
    }
   ],
   "source": [
    "#Bir dizinin şekil (boyut) değişimini yapar.\n",
    "\n",
    "arr = np.array([1, 2, 3, 4, 5, 6])\n",
    "reshaped = arr.reshape(2, 3)\n",
    "print(reshaped)"
   ]
  },
  {
   "cell_type": "code",
   "execution_count": 8,
   "id": "9a2a8cdc-7362-4813-8cc2-61b2b2e1c4a2",
   "metadata": {},
   "outputs": [
    {
     "name": "stdout",
     "output_type": "stream",
     "text": [
      "[1 2 3 4]\n"
     ]
    }
   ],
   "source": [
    "#Çok boyutlu bir diziyi tek boyutlu hale getirir.\n",
    "\n",
    "arr = np.array([[1, 2], [3, 4]])\n",
    "flattened = arr.flatten()\n",
    "print(flattened)"
   ]
  },
  {
   "cell_type": "code",
   "execution_count": 9,
   "id": "6684ea3d-f74d-4785-8a7c-b28349ea6305",
   "metadata": {},
   "outputs": [
    {
     "name": "stdout",
     "output_type": "stream",
     "text": [
      "10\n"
     ]
    }
   ],
   "source": [
    "#Bir dizinin elemanlarının toplamını hesaplar.\n",
    "\n",
    "arr = np.array([1, 2, 3, 4])\n",
    "total = np.sum(arr)\n",
    "print(total)"
   ]
  },
  {
   "cell_type": "code",
   "execution_count": 10,
   "id": "36842aa7-f39b-4206-8a08-f4f5866540ea",
   "metadata": {},
   "outputs": [
    {
     "name": "stdout",
     "output_type": "stream",
     "text": [
      "2.5\n"
     ]
    }
   ],
   "source": [
    "#Bir dizinin ortalamasını hesaplar.\n",
    "\n",
    "arr = np.array([1, 2, 3, 4])\n",
    "mean_value = np.mean(arr)\n",
    "print(mean_value)"
   ]
  },
  {
   "cell_type": "code",
   "execution_count": 11,
   "id": "e9cf6381-beca-4836-af87-42e9ac1d2604",
   "metadata": {},
   "outputs": [
    {
     "name": "stdout",
     "output_type": "stream",
     "text": [
      "2.5\n"
     ]
    }
   ],
   "source": [
    "#Bir dizinin medyanını hesaplar.\n",
    "\n",
    "arr = np.array([1, 3, 2, 4])\n",
    "median_value = np.median(arr)\n",
    "print(median_value)"
   ]
  },
  {
   "cell_type": "code",
   "execution_count": null,
   "id": "8073d664-c13d-4584-84b1-ab411d62e6f4",
   "metadata": {},
   "outputs": [],
   "source": []
  }
 ],
 "metadata": {
  "kernelspec": {
   "display_name": "Python 3 (ipykernel)",
   "language": "python",
   "name": "python3"
  },
  "language_info": {
   "codemirror_mode": {
    "name": "ipython",
    "version": 3
   },
   "file_extension": ".py",
   "mimetype": "text/x-python",
   "name": "python",
   "nbconvert_exporter": "python",
   "pygments_lexer": "ipython3",
   "version": "3.9.21"
  }
 },
 "nbformat": 4,
 "nbformat_minor": 5
}
