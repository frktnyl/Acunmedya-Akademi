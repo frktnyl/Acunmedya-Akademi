{
 "cells": [
  {
   "cell_type": "code",
   "execution_count": 1,
   "id": "b9aaab02-e27f-4f5f-a520-ee09e25c817f",
   "metadata": {},
   "outputs": [],
   "source": [
    "import pandas as pd\n",
    "from sklearn.model_selection import train_test_split\n",
    "from sklearn.linear_model import LinearRegression\n",
    "from sklearn.tree import DecisionTreeRegressor\n",
    "from sklearn.ensemble import RandomForestRegressor\n",
    "from sklearn.metrics import mean_squared_error, r2_score"
   ]
  },
  {
   "cell_type": "code",
   "execution_count": 3,
   "id": "0e59d010-0a7d-444a-afec-47be0aa14990",
   "metadata": {},
   "outputs": [],
   "source": [
    "df = pd.read_csv(\"cali_house_price.csv\")\n",
    "df = df.dropna()\n",
    "df = pd.get_dummies(df)\n",
    "\n",
    "X = df.drop(\"median_house_value\", axis=1)\n",
    "y = df[\"median_house_value\"]\n",
    "\n",
    "X_train, X_test, y_train, y_test = train_test_split(X, y, test_size=0.2, random_state=0)"
   ]
  },
  {
   "cell_type": "code",
   "execution_count": 4,
   "id": "a5b67e06-0cac-4110-a25c-ebea5c132a85",
   "metadata": {},
   "outputs": [],
   "source": [
    "lr = LinearRegression()\n",
    "lr.fit(X_train, y_train)\n",
    "lr_pred = lr.predict(X_test)"
   ]
  },
  {
   "cell_type": "code",
   "execution_count": 5,
   "id": "e327d091-32d1-45c8-bd54-378d7fa8a031",
   "metadata": {},
   "outputs": [],
   "source": [
    "dt = DecisionTreeRegressor()\n",
    "dt.fit(X_train, y_train)\n",
    "dt_pred = dt.predict(X_test)"
   ]
  },
  {
   "cell_type": "code",
   "execution_count": 6,
   "id": "68d3fbc6-ad62-4d2e-9f1f-2d5010be7378",
   "metadata": {},
   "outputs": [],
   "source": [
    "rf = RandomForestRegressor()\n",
    "rf.fit(X_train, y_train)\n",
    "rf_pred = rf.predict(X_test)"
   ]
  },
  {
   "cell_type": "code",
   "execution_count": 8,
   "id": "fff77073-26b8-4b87-92b3-87259fc5a5b3",
   "metadata": {},
   "outputs": [
    {
     "name": "stdout",
     "output_type": "stream",
     "text": [
      "Linear Regression R2: 0.6526096664531125\n"
     ]
    }
   ],
   "source": [
    "print(\"Linear Regression R2:\", r2_score(y_test, lr_pred))"
   ]
  },
  {
   "cell_type": "code",
   "execution_count": 10,
   "id": "5d6800b6-88f3-474e-b0ac-d8170ba2e5d7",
   "metadata": {},
   "outputs": [
    {
     "name": "stdout",
     "output_type": "stream",
     "text": [
      "Decision Tree R2: 0.6500917114416767\n"
     ]
    }
   ],
   "source": [
    "print(\"Decision Tree R2:\", r2_score(y_test, dt_pred))"
   ]
  },
  {
   "cell_type": "code",
   "execution_count": 11,
   "id": "57f271d6-a66e-47eb-ba62-a978aef682e4",
   "metadata": {},
   "outputs": [
    {
     "name": "stdout",
     "output_type": "stream",
     "text": [
      "Random Forest R2: 0.816642010432406\n"
     ]
    }
   ],
   "source": [
    "print(\"Random Forest R2:\", r2_score(y_test, rf_pred))"
   ]
  },
  {
   "cell_type": "code",
   "execution_count": null,
   "id": "9c045733-ced8-4c91-a055-e79617ef2725",
   "metadata": {},
   "outputs": [],
   "source": []
  }
 ],
 "metadata": {
  "kernelspec": {
   "display_name": "Python 3 (ipykernel)",
   "language": "python",
   "name": "python3"
  },
  "language_info": {
   "codemirror_mode": {
    "name": "ipython",
    "version": 3
   },
   "file_extension": ".py",
   "mimetype": "text/x-python",
   "name": "python",
   "nbconvert_exporter": "python",
   "pygments_lexer": "ipython3",
   "version": "3.9.21"
  }
 },
 "nbformat": 4,
 "nbformat_minor": 5
}
