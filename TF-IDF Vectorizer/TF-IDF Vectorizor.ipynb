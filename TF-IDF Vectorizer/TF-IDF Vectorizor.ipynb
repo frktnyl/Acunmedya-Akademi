{
 "cells": [
  {
   "cell_type": "code",
   "execution_count": 8,
   "id": "f837684a-c675-4e9f-a080-f34adba554c1",
   "metadata": {},
   "outputs": [],
   "source": [
    "# Bilgisayarlar metni anlayamaz. Bu yüzden cümleleri sayısal hale getirmek Vectoriation oluyor.\n",
    "# TF bir kelimenin tekrar sayısına bakar.\n",
    "# IDF ise o kelimenin kaç farklı belgede olduğuna bakar.\n",
    "# Örnek :\n",
    "from sklearn.feature_extraction.text import TfidfVectorizer"
   ]
  },
  {
   "cell_type": "code",
   "execution_count": 2,
   "id": "f27e0859-4282-42a2-a42a-69f6517d95e5",
   "metadata": {},
   "outputs": [],
   "source": [
    "emails = [\n",
    "    \"Hemen tıklayın ve bedava ürün kazanın!\",\n",
    "    \"Merhaba, nasılsın? Bugün buluşalım mı?\", \n",
    "    \"Bu bedava tatil fırsatını kaçırma!\",      \n",
    "    \"Merhaba, bu hafta sonu sinemaya gidelim mi?\"\n",
    "]"
   ]
  },
  {
   "cell_type": "code",
   "execution_count": 3,
   "id": "af886b1d-24fe-4a95-ba2f-9ad0160b26c3",
   "metadata": {},
   "outputs": [
    {
     "name": "stdout",
     "output_type": "stream",
     "text": [
      "Kelimeler (özellik adları):\n",
      "['bedava' 'bu' 'bugün' 'buluşalım' 'fırsatını' 'gidelim' 'hafta' 'hemen'\n",
      " 'kazanın' 'kaçırma' 'merhaba' 'mi' 'mı' 'nasılsın' 'sinemaya' 'sonu'\n",
      " 'tatil' 'tıklayın' 've' 'ürün']\n",
      "\n",
      "TF-IDF Matrisi:\n",
      "[[0.3325242  0.         0.         0.         0.         0.\n",
      "  0.         0.42176478 0.42176478 0.         0.         0.\n",
      "  0.         0.         0.         0.         0.         0.42176478\n",
      "  0.42176478 0.42176478]\n",
      " [0.         0.         0.46516193 0.46516193 0.         0.\n",
      "  0.         0.         0.         0.         0.36673901 0.\n",
      "  0.46516193 0.46516193 0.         0.         0.         0.\n",
      "  0.         0.        ]\n",
      " [0.38274272 0.38274272 0.         0.         0.48546061 0.\n",
      "  0.         0.         0.         0.48546061 0.         0.\n",
      "  0.         0.         0.         0.         0.48546061 0.\n",
      "  0.         0.        ]\n",
      " [0.         0.31553666 0.         0.         0.         0.40021825\n",
      "  0.40021825 0.         0.         0.         0.31553666 0.40021825\n",
      "  0.         0.         0.40021825 0.40021825 0.         0.\n",
      "  0.         0.        ]]\n"
     ]
    }
   ],
   "source": [
    "tfidf = TfidfVectorizer()\n",
    "\n",
    "X = tfidf.fit_transform(emails)\n",
    "\n",
    "print(\"Kelimeler (özellik adları):\")\n",
    "print(tfidf.get_feature_names_out())\n",
    "\n",
    "print(\"\\nTF-IDF Matrisi:\")\n",
    "print(X.toarray())"
   ]
  },
  {
   "cell_type": "code",
   "execution_count": 9,
   "id": "514d7984-e911-4436-9062-5147b75404f7",
   "metadata": {},
   "outputs": [],
   "source": [
    "# Skor yükseltme ödevi :"
   ]
  },
  {
   "cell_type": "code",
   "execution_count": 20,
   "id": "faf8228b-c1f8-45c9-ace1-0fc63d3dec68",
   "metadata": {},
   "outputs": [],
   "source": [
    "import pandas as pd\n",
    "from sklearn.feature_extraction.text import TfidfVectorizer\n",
    "from sklearn.model_selection import train_test_split\n",
    "from sklearn.naive_bayes import MultinomialNB\n",
    "from sklearn.metrics import classification_report\n",
    "import nltk\n",
    "import string"
   ]
  },
  {
   "cell_type": "code",
   "execution_count": 21,
   "id": "bd6903c0-0664-49be-81c6-b924952a465e",
   "metadata": {},
   "outputs": [
    {
     "data": {
      "text/html": [
       "<div>\n",
       "<style scoped>\n",
       "    .dataframe tbody tr th:only-of-type {\n",
       "        vertical-align: middle;\n",
       "    }\n",
       "\n",
       "    .dataframe tbody tr th {\n",
       "        vertical-align: top;\n",
       "    }\n",
       "\n",
       "    .dataframe thead th {\n",
       "        text-align: right;\n",
       "    }\n",
       "</style>\n",
       "<table border=\"1\" class=\"dataframe\">\n",
       "  <thead>\n",
       "    <tr style=\"text-align: right;\">\n",
       "      <th></th>\n",
       "      <th>Unnamed: 0</th>\n",
       "      <th>label</th>\n",
       "      <th>text</th>\n",
       "      <th>label_num</th>\n",
       "    </tr>\n",
       "  </thead>\n",
       "  <tbody>\n",
       "    <tr>\n",
       "      <th>0</th>\n",
       "      <td>605</td>\n",
       "      <td>ham</td>\n",
       "      <td>Subject: enron methanol ; meter # : 988291\\nth...</td>\n",
       "      <td>0</td>\n",
       "    </tr>\n",
       "    <tr>\n",
       "      <th>1</th>\n",
       "      <td>2349</td>\n",
       "      <td>ham</td>\n",
       "      <td>Subject: hpl nom for january 9 , 2001\\n( see a...</td>\n",
       "      <td>0</td>\n",
       "    </tr>\n",
       "    <tr>\n",
       "      <th>2</th>\n",
       "      <td>3624</td>\n",
       "      <td>ham</td>\n",
       "      <td>Subject: neon retreat\\nho ho ho , we ' re arou...</td>\n",
       "      <td>0</td>\n",
       "    </tr>\n",
       "    <tr>\n",
       "      <th>3</th>\n",
       "      <td>4685</td>\n",
       "      <td>spam</td>\n",
       "      <td>Subject: photoshop , windows , office . cheap ...</td>\n",
       "      <td>1</td>\n",
       "    </tr>\n",
       "    <tr>\n",
       "      <th>4</th>\n",
       "      <td>2030</td>\n",
       "      <td>ham</td>\n",
       "      <td>Subject: re : indian springs\\nthis deal is to ...</td>\n",
       "      <td>0</td>\n",
       "    </tr>\n",
       "  </tbody>\n",
       "</table>\n",
       "</div>"
      ],
      "text/plain": [
       "   Unnamed: 0 label                                               text  \\\n",
       "0         605   ham  Subject: enron methanol ; meter # : 988291\\nth...   \n",
       "1        2349   ham  Subject: hpl nom for january 9 , 2001\\n( see a...   \n",
       "2        3624   ham  Subject: neon retreat\\nho ho ho , we ' re arou...   \n",
       "3        4685  spam  Subject: photoshop , windows , office . cheap ...   \n",
       "4        2030   ham  Subject: re : indian springs\\nthis deal is to ...   \n",
       "\n",
       "   label_num  \n",
       "0          0  \n",
       "1          0  \n",
       "2          0  \n",
       "3          1  \n",
       "4          0  "
      ]
     },
     "execution_count": 21,
     "metadata": {},
     "output_type": "execute_result"
    }
   ],
   "source": [
    "df = pd.read_csv(\"spam_ham_dataset.csv\")\n",
    "df.head()"
   ]
  },
  {
   "cell_type": "code",
   "execution_count": null,
   "id": "0a63e5ca-f075-4031-9f4b-b70288cdd427",
   "metadata": {},
   "outputs": [],
   "source": [
    "ps = nltk.stem.porter.PorterStemmer()\n",
    "\n",
    "def clean_text(text):\n",
    "    text = text.lower()\n",
    "    text = text.translate(str.maketrans('', '', string.punctuation))\n",
    "    words = text.split()\n",
    "    words = [word for word in words if word.isalpha()]\n",
    "    words = [ps.stem(word) for word in words if word not in nltk.corpus.stopwords.words('english')]\n",
    "    return \" \".join(words)\n",
    "\n",
    "df['clean_text'] = df['text'].apply(clean_text)\n",
    "\n",
    "df.head()"
   ]
  },
  {
   "cell_type": "code",
   "execution_count": null,
   "id": "8d3f558f-8cd6-4b1b-a276-2d97e151c983",
   "metadata": {},
   "outputs": [],
   "source": [
    "tfidf = TfidfVectorizer(\n",
    "    max_df=0.9,       \n",
    "    min_df=3,      \n",
    "    ngram_range=(1,2)\n",
    ")\n",
    "\n",
    "X_tfidf = tfidf.fit_transform(df['clean_text']) \n",
    "y = df['label_num']  "
   ]
  },
  {
   "cell_type": "code",
   "execution_count": null,
   "id": "61fc2e81-9cff-4868-8641-5428923b9e3f",
   "metadata": {},
   "outputs": [],
   "source": [
    "X_train, X_test, y_train, y_test = train_test_split(X_tfidf, y, test_size=0.3, random_state=42)\n"
   ]
  },
  {
   "cell_type": "code",
   "execution_count": null,
   "id": "351a3a71-3e34-48b7-9112-f45d08837d44",
   "metadata": {},
   "outputs": [],
   "source": [
    "model = MultinomialNB()\n",
    "\n",
    "model.fit(X_train, y_train)"
   ]
  },
  {
   "cell_type": "code",
   "execution_count": null,
   "id": "f8dbe95e-8d2f-459a-bc49-126276be6475",
   "metadata": {},
   "outputs": [],
   "source": [
    "y_pred = model.predict(X_test)\n",
    "print(classification_report(y_test, y_pred))"
   ]
  },
  {
   "cell_type": "code",
   "execution_count": null,
   "id": "dc85edca-c07b-4da6-8858-473e6a194f93",
   "metadata": {},
   "outputs": [],
   "source": []
  }
 ],
 "metadata": {
  "kernelspec": {
   "display_name": "Python 3 (ipykernel)",
   "language": "python",
   "name": "python3"
  },
  "language_info": {
   "codemirror_mode": {
    "name": "ipython",
    "version": 3
   },
   "file_extension": ".py",
   "mimetype": "text/x-python",
   "name": "python",
   "nbconvert_exporter": "python",
   "pygments_lexer": "ipython3",
   "version": "3.9.21"
  }
 },
 "nbformat": 4,
 "nbformat_minor": 5
}
