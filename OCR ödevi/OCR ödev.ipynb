{
  {
   "cell_type": "code",
   "execution_count": null,
   "id": "22ecf443",
   "metadata": {},
   "outputs": [],
   "source": [
    "!pip install pillow opencv-python pytesseract\n"
   ]
  },
  {
   "cell_type": "code",
   "execution_count": null,
   "id": "de08eb38",
   "metadata": {},
   "outputs": [],
   "source": [
    "from PIL import Image\n",
    "import pytesseract\n",
    "import cv2\n"
   ]
  },
  {
   "cell_type": "code",
   "execution_count": null,
   "id": "2e9b3540",
   "metadata": {},
   "outputs": [],
   "source": [
    "pytesseract.pytesseract.tesseract_yolu = r\"C:\\Program Files\\Tesseract-OCR\\tesseract.exe\"\n"
   ]
  },
  {
   "cell_type": "code",
   "execution_count": null,
   "id": "5aab353f",
   "metadata": {},
   "outputs": [],
   "source": [
    "\n",
    "gorsel_path = \"resim.png\"\n",
    "resim = cv2.imread(gorsel_path)"
   ]
  },
  {
   "cell_type": "code",
   "execution_count": null,
   "id": "256956cb",
   "metadata": {},
   "outputs": [],
   "source": [
    "\n",
    "gray = cv2.cvtColor(resim, cv2.COLOR_BGR2GRAY)\n"
   ]
  },
  {
   "cell_type": "code",
   "execution_count": null,
   "id": "51d29175",
   "metadata": {},
   "outputs": [],
   "source": [
    "\n",
    "cv2.imwrite(\"temp.png\", gray)"
   ]
  },
  {
   "cell_type": "code",
   "execution_count": null,
   "id": "4c82b3f4",
   "metadata": {},
   "outputs": [],
   "source": [
    "# OCR İşlemi\n",
    "metin = pytesseract.gorsel_to_string(Image.open(\"temp.png\"), lang=\"eng\") "
   ]
  },
  {
   "cell_type": "code",
   "execution_count": null,
   "id": "f0ef46bf",
   "metadata": {},
   "outputs": [],
   "source": [
    "\"Tespit edilen metin:  \"+metin"
   ]
  },
  {
   "cell_type": "code",
   "execution_count": null,
   "id": "5335bcc0",
   "metadata": {},
   "outputs": [],
   "source": []
  }
 ],
 "metadata": {
  "kernelspec": {
   "display_name": "Python [conda env:anaconda3]",
   "language": "python",
   "name": "conda-env-anaconda3-py"
  },
  "language_info": {
   "codemirror_mode": {
    "name": "ipython",
    "version": 3
   },
   "file_extension": ".py",
   "mimetype": "text/x-python",
   "name": "python",
   "nbconvert_exporter": "python",
   "pygments_lexer": "ipython3",
   "version": "3.12.7"
  }
 },
 "nbformat": 4,
 "nbformat_minor": 5
}
